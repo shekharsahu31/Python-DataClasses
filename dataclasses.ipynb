{
 "cells": [
  {
   "cell_type": "code",
   "execution_count": 1,
   "metadata": {},
   "outputs": [],
   "source": [
    "from dataclasses import dataclass"
   ]
  },
  {
   "cell_type": "code",
   "execution_count": 4,
   "metadata": {},
   "outputs": [
    {
     "name": "stdout",
     "output_type": "stream",
     "text": [
      "<__main__.Person object at 0x0000018672CA85D0>\n",
      "shekhar\n",
      "25\n"
     ]
    }
   ],
   "source": [
    "class Person:\n",
    "    def __init__(self, name, age):\n",
    "        self.name = name\n",
    "        self.age = age\n",
    "    \n",
    "p = Person(\"shekhar\" , 25)\n",
    "print(p)\n",
    "print(p.name)\n",
    "print(p.age)"
   ]
  },
  {
   "cell_type": "code",
   "execution_count": 21,
   "metadata": {},
   "outputs": [
    {
     "name": "stdout",
     "output_type": "stream",
     "text": [
      "Person2(name='shekhar', age=25)\n",
      "shekhar\n",
      "25\n"
     ]
    }
   ],
   "source": [
    "@dataclass\n",
    "class Person2:\n",
    "    name:str\n",
    "    age:int\n",
    "\n",
    "p2 = Person2(\"shekhar\", 25)\n",
    "print(p2)\n",
    "print(p2.name)\n",
    "print(p2.age)"
   ]
  },
  {
   "cell_type": "code",
   "execution_count": 10,
   "metadata": {},
   "outputs": [
    {
     "name": "stdout",
     "output_type": "stream",
     "text": [
      "Person3(name='Shekhar', age=25)\n",
      "Shekhar\n",
      "25\n"
     ]
    }
   ],
   "source": [
    "@dataclass\n",
    "class Person3:\n",
    "    name:str = \"Shekhar\"\n",
    "    age:int = 25\n",
    "\n",
    "p2 = Person3()\n",
    "print(p2)\n",
    "print(p2.name)\n",
    "print(p2.age)"
   ]
  },
  {
   "cell_type": "code",
   "execution_count": 20,
   "metadata": {},
   "outputs": [
    {
     "name": "stdout",
     "output_type": "stream",
     "text": [
      "Person3(name='Vipul', age=25)\n",
      "Vipul\n",
      "25\n"
     ]
    }
   ],
   "source": [
    "@dataclass\n",
    "class Person3:\n",
    "    name:str = \"Shekhar\"\n",
    "    age:int = 25\n",
    "\n",
    "p2 = Person3(\"Vipul\")\n",
    "print(p2)\n",
    "print(p2.name)\n",
    "print(p2.age)"
   ]
  },
  {
   "cell_type": "code",
   "execution_count": 18,
   "metadata": {},
   "outputs": [
    {
     "name": "stdout",
     "output_type": "stream",
     "text": [
      "Person3(name='Vipul', age=21)\n",
      "Vipul\n",
      "21\n"
     ]
    }
   ],
   "source": [
    "@dataclass\n",
    "class Person3:\n",
    "    name:str = \"Shekhar\"\n",
    "    age:int = 25\n",
    "\n",
    "p2 = Person3(\"Vipul\" , 21)\n",
    "print(p2)\n",
    "print(p2.name)\n",
    "print(p2.age)"
   ]
  },
  {
   "cell_type": "code",
   "execution_count": null,
   "metadata": {},
   "outputs": [],
   "source": [
    "# Python Data Classes\n",
    "\n",
    "'''In Python, the dataclass decorator is a feature introduced in Python 3.7 that provides a concise way to define \n",
    "classes primarily intended to store data. It automatically generates several special methods, such as __init__, \n",
    "__repr__, and __eq__, based on the class attributes you define. This simplifies the process of creating and \n",
    "working with data-focused classes. '''"
   ]
  },
  {
   "cell_type": "code",
   "execution_count": 19,
   "metadata": {},
   "outputs": [
    {
     "name": "stdout",
     "output_type": "stream",
     "text": [
      "Address(street='abcd', city='jaipur')\n",
      "abcd\n",
      "jaipur\n",
      "Insaan(name='shekhar', age=25, address=Address(street='abcd', city='jaipur'))\n",
      "shekhar\n",
      "25\n",
      "Address(street='abcd', city='jaipur')\n",
      "abcd\n",
      "jaipur\n"
     ]
    }
   ],
   "source": [
    "#ONE DATA CLASS TO OTHER -\n",
    "\n",
    "@dataclass\n",
    "class Address:\n",
    "    street:str\n",
    "    city:str\n",
    "\n",
    "@dataclass\n",
    "class Insaan:\n",
    "    name:str\n",
    "    age:int\n",
    "    address:Address\n",
    "\n",
    "add = Address(\"abcd\" , \"jaipur\")\n",
    "ins = Insaan(\"shekhar\" , 25 , add)\n",
    "print(add)\n",
    "print(add.street)\n",
    "print(add.city)\n",
    "print(ins)\n",
    "print(ins.name)\n",
    "print(ins.age)\n",
    "print(ins.address)\n",
    "print(ins.address.street)\n",
    "print(ins.address.city)"
   ]
  },
  {
   "cell_type": "code",
   "execution_count": 17,
   "metadata": {},
   "outputs": [
    {
     "name": "stdout",
     "output_type": "stream",
     "text": [
      "Address(street='abcd', city='jaipur')\n",
      "abcd\n",
      "jaipur\n",
      "Insaan(street='shekhar', city=25, name='abcd', age='jaipur')\n",
      "abcd\n",
      "jaipur\n",
      "shekhar\n",
      "25\n"
     ]
    }
   ],
   "source": [
    "## INHERITANCE\n",
    "\n",
    "@dataclass\n",
    "class Address:\n",
    "    street:str\n",
    "    city:str\n",
    "\n",
    "@dataclass\n",
    "class Insaan(Address):\n",
    "    name:str\n",
    "    age:int\n",
    "\n",
    "add = Address(\"abcd\" , \"jaipur\")\n",
    "ins = Insaan(\"shekhar\" , 25, \"abcd\" , \"jaipur\")\n",
    "print(add)\n",
    "print(add.street)\n",
    "print(add.city)\n",
    "print(ins)\n",
    "print(ins.name)\n",
    "print(ins.age)\n",
    "print(ins.street)\n",
    "print(ins.city)"
   ]
  },
  {
   "cell_type": "code",
   "execution_count": 23,
   "metadata": {},
   "outputs": [
    {
     "name": "stdout",
     "output_type": "stream",
     "text": [
      "Person2(name='shekhar', age=25)\n",
      "shekhar\n",
      "25\n",
      "Person2(name='Vipul', age=21)\n",
      "Vipul\n",
      "21\n"
     ]
    }
   ],
   "source": [
    "@dataclass\n",
    "class Person2:\n",
    "    name:str\n",
    "    age:int\n",
    "\n",
    "p2 = Person2(\"shekhar\", 25)\n",
    "print(p2)\n",
    "print(p2.name)\n",
    "print(p2.age)\n",
    "p2.name = \"Vipul\"\n",
    "p2.age = 21\n",
    "print(p2)\n",
    "print(p2.name)\n",
    "print(p2.age)"
   ]
  },
  {
   "cell_type": "code",
   "execution_count": 25,
   "metadata": {},
   "outputs": [
    {
     "name": "stdout",
     "output_type": "stream",
     "text": [
      "Person2(name='shekhar', age=25)\n",
      "shekhar\n",
      "25\n"
     ]
    },
    {
     "ename": "FrozenInstanceError",
     "evalue": "cannot assign to field 'name'",
     "output_type": "error",
     "traceback": [
      "\u001b[1;31m---------------------------------------------------------------------------\u001b[0m",
      "\u001b[1;31mFrozenInstanceError\u001b[0m                       Traceback (most recent call last)",
      "\u001b[1;32mc:\\Users\\Vipul Sahu\\Desktop\\Python-DataClasses\\dataclasses.ipynb Cell 11\u001b[0m line \u001b[0;36m1\n\u001b[0;32m      <a href='vscode-notebook-cell:/c%3A/Users/Vipul%20Sahu/Desktop/Python-DataClasses/dataclasses.ipynb#X15sZmlsZQ%3D%3D?line=7'>8</a>\u001b[0m \u001b[39mprint\u001b[39m(p2\u001b[39m.\u001b[39mname)\n\u001b[0;32m      <a href='vscode-notebook-cell:/c%3A/Users/Vipul%20Sahu/Desktop/Python-DataClasses/dataclasses.ipynb#X15sZmlsZQ%3D%3D?line=8'>9</a>\u001b[0m \u001b[39mprint\u001b[39m(p2\u001b[39m.\u001b[39mage)\n\u001b[1;32m---> <a href='vscode-notebook-cell:/c%3A/Users/Vipul%20Sahu/Desktop/Python-DataClasses/dataclasses.ipynb#X15sZmlsZQ%3D%3D?line=9'>10</a>\u001b[0m p2\u001b[39m.\u001b[39;49mname \u001b[39m=\u001b[39m \u001b[39m\"\u001b[39m\u001b[39mVipul\u001b[39m\u001b[39m\"\u001b[39m\n\u001b[0;32m     <a href='vscode-notebook-cell:/c%3A/Users/Vipul%20Sahu/Desktop/Python-DataClasses/dataclasses.ipynb#X15sZmlsZQ%3D%3D?line=10'>11</a>\u001b[0m p2\u001b[39m.\u001b[39mage \u001b[39m=\u001b[39m \u001b[39m21\u001b[39m\n\u001b[0;32m     <a href='vscode-notebook-cell:/c%3A/Users/Vipul%20Sahu/Desktop/Python-DataClasses/dataclasses.ipynb#X15sZmlsZQ%3D%3D?line=11'>12</a>\u001b[0m \u001b[39mprint\u001b[39m(p2)\n",
      "File \u001b[1;32m<string>:4\u001b[0m, in \u001b[0;36m__setattr__\u001b[1;34m(self, name, value)\u001b[0m\n",
      "\u001b[1;31mFrozenInstanceError\u001b[0m: cannot assign to field 'name'"
     ]
    }
   ],
   "source": [
    "@dataclass(frozen=True)\n",
    "class Person2:\n",
    "    name:str\n",
    "    age:int\n",
    "\n",
    "p2 = Person2(\"shekhar\", 25)\n",
    "print(p2)\n",
    "print(p2.name)\n",
    "print(p2.age)\n",
    "p2.name = \"Vipul\"\n",
    "p2.age = 21\n",
    "print(p2)\n",
    "print(p2.name)\n",
    "print(p2.age)"
   ]
  },
  {
   "cell_type": "code",
   "execution_count": null,
   "metadata": {},
   "outputs": [],
   "source": []
  }
 ],
 "metadata": {
  "kernelspec": {
   "display_name": "Python 3",
   "language": "python",
   "name": "python3"
  },
  "language_info": {
   "codemirror_mode": {
    "name": "ipython",
    "version": 3
   },
   "file_extension": ".py",
   "mimetype": "text/x-python",
   "name": "python",
   "nbconvert_exporter": "python",
   "pygments_lexer": "ipython3",
   "version": "3.11.5"
  }
 },
 "nbformat": 4,
 "nbformat_minor": 2
}
